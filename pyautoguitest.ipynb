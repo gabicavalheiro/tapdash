{
 "cells": [
  {
   "cell_type": "code",
   "execution_count": 2,
   "metadata": {},
   "outputs": [
    {
     "name": "stdout",
     "output_type": "stream",
     "text": [
      "A cor não foi encontrada na região especificada.\n",
      "A cor não foi encontrada na região especificada.\n",
      "A cor não foi encontrada na região especificada.\n",
      "A cor não foi encontrada na região especificada.\n",
      "A cor não foi encontrada na região especificada.\n",
      "A cor não foi encontrada na região especificada.\n",
      "A cor não foi encontrada na região especificada.\n",
      "A cor não foi encontrada na região especificada.\n",
      "A cor não foi encontrada na região especificada.\n",
      "A cor não foi encontrada na região especificada.\n",
      "A cor não foi encontrada na região especificada.\n",
      "A cor não foi encontrada na região especificada.\n",
      "A cor não foi encontrada na região especificada.\n",
      "A cor foi encontrada nas coordenadas: (460, 631)\n",
      "A cor 2 foi encontrada nas coordenadas: (474, 599)\n",
      "Grau de proximidade entre as coordenadas: 15.333333333333334\n",
      "Coordenadas próximas! Clicando...\n",
      "A cor não foi encontrada na região especificada.\n"
     ]
    },
    {
     "ename": "KeyboardInterrupt",
     "evalue": "",
     "output_type": "error",
     "traceback": [
      "\u001b[1;31m---------------------------------------------------------------------------\u001b[0m",
      "\u001b[1;31mKeyboardInterrupt\u001b[0m                         Traceback (most recent call last)",
      "\u001b[1;32mc:\\Users\\Gabi\\Desktop\\4 semestre\\ia\\tarefa- bot\\tapdash\\pyautoguitest.ipynb Cell 1\u001b[0m line \u001b[0;36m3\n\u001b[0;32m     <a href='vscode-notebook-cell:/c%3A/Users/Gabi/Desktop/4%20semestre/ia/tarefa-%20bot/tapdash/pyautoguitest.ipynb#W0sZmlsZQ%3D%3D?line=28'>29</a>\u001b[0m pixels \u001b[39m=\u001b[39m get_region_pixels(region_to_search)\n\u001b[0;32m     <a href='vscode-notebook-cell:/c%3A/Users/Gabi/Desktop/4%20semestre/ia/tarefa-%20bot/tapdash/pyautoguitest.ipynb#W0sZmlsZQ%3D%3D?line=30'>31</a>\u001b[0m pixel_coordinates \u001b[39m=\u001b[39m find_color_in_pixels(target_color, pixels, region_to_search)\n\u001b[1;32m---> <a href='vscode-notebook-cell:/c%3A/Users/Gabi/Desktop/4%20semestre/ia/tarefa-%20bot/tapdash/pyautoguitest.ipynb#W0sZmlsZQ%3D%3D?line=31'>32</a>\u001b[0m pixel_coordinates2 \u001b[39m=\u001b[39m find_color_in_pixels(target_color2, pixels, region_to_search)\n\u001b[0;32m     <a href='vscode-notebook-cell:/c%3A/Users/Gabi/Desktop/4%20semestre/ia/tarefa-%20bot/tapdash/pyautoguitest.ipynb#W0sZmlsZQ%3D%3D?line=33'>34</a>\u001b[0m \u001b[39mif\u001b[39;00m pixel_coordinates \u001b[39mand\u001b[39;00m pixel_coordinates2:\n\u001b[0;32m     <a href='vscode-notebook-cell:/c%3A/Users/Gabi/Desktop/4%20semestre/ia/tarefa-%20bot/tapdash/pyautoguitest.ipynb#W0sZmlsZQ%3D%3D?line=34'>35</a>\u001b[0m     \u001b[39mprint\u001b[39m(\u001b[39mf\u001b[39m\u001b[39m\"\u001b[39m\u001b[39mA cor foi encontrada nas coordenadas: \u001b[39m\u001b[39m{\u001b[39;00mpixel_coordinates\u001b[39m}\u001b[39;00m\u001b[39m\"\u001b[39m)\n",
      "\u001b[1;32mc:\\Users\\Gabi\\Desktop\\4 semestre\\ia\\tarefa- bot\\tapdash\\pyautoguitest.ipynb Cell 1\u001b[0m line \u001b[0;36m1\n\u001b[0;32m      <a href='vscode-notebook-cell:/c%3A/Users/Gabi/Desktop/4%20semestre/ia/tarefa-%20bot/tapdash/pyautoguitest.ipynb#W0sZmlsZQ%3D%3D?line=8'>9</a>\u001b[0m \u001b[39mfor\u001b[39;00m x \u001b[39min\u001b[39;00m \u001b[39mrange\u001b[39m(region[\u001b[39m0\u001b[39m], region[\u001b[39m2\u001b[39m]):\n\u001b[0;32m     <a href='vscode-notebook-cell:/c%3A/Users/Gabi/Desktop/4%20semestre/ia/tarefa-%20bot/tapdash/pyautoguitest.ipynb#W0sZmlsZQ%3D%3D?line=9'>10</a>\u001b[0m     \u001b[39mfor\u001b[39;00m y \u001b[39min\u001b[39;00m \u001b[39mrange\u001b[39m(region[\u001b[39m1\u001b[39m], region[\u001b[39m3\u001b[39m]):\n\u001b[1;32m---> <a href='vscode-notebook-cell:/c%3A/Users/Gabi/Desktop/4%20semestre/ia/tarefa-%20bot/tapdash/pyautoguitest.ipynb#W0sZmlsZQ%3D%3D?line=10'>11</a>\u001b[0m         pixel_color \u001b[39m=\u001b[39m pixels\u001b[39m.\u001b[39;49mgetpixel((x \u001b[39m-\u001b[39;49m region[\u001b[39m0\u001b[39;49m], y \u001b[39m-\u001b[39;49m region[\u001b[39m1\u001b[39;49m]))\n\u001b[0;32m     <a href='vscode-notebook-cell:/c%3A/Users/Gabi/Desktop/4%20semestre/ia/tarefa-%20bot/tapdash/pyautoguitest.ipynb#W0sZmlsZQ%3D%3D?line=11'>12</a>\u001b[0m         \u001b[39mif\u001b[39;00m pixel_color \u001b[39m==\u001b[39m target_color:\n\u001b[0;32m     <a href='vscode-notebook-cell:/c%3A/Users/Gabi/Desktop/4%20semestre/ia/tarefa-%20bot/tapdash/pyautoguitest.ipynb#W0sZmlsZQ%3D%3D?line=12'>13</a>\u001b[0m             \u001b[39mreturn\u001b[39;00m x, y\n",
      "File \u001b[1;32mc:\\Python312\\Lib\\site-packages\\PIL\\Image.py:1577\u001b[0m, in \u001b[0;36mImage.getpixel\u001b[1;34m(self, xy)\u001b[0m\n\u001b[0;32m   1573\u001b[0m     \u001b[39mself\u001b[39m\u001b[39m.\u001b[39mpalette\u001b[39m.\u001b[39mdirty \u001b[39m=\u001b[39m \u001b[39m1\u001b[39m\n\u001b[0;32m   1575\u001b[0m     \u001b[39mdel\u001b[39;00m \u001b[39mself\u001b[39m\u001b[39m.\u001b[39minfo[\u001b[39m\"\u001b[39m\u001b[39mtransparency\u001b[39m\u001b[39m\"\u001b[39m]\n\u001b[1;32m-> 1577\u001b[0m \u001b[39mdef\u001b[39;00m \u001b[39mgetpixel\u001b[39m(\u001b[39mself\u001b[39m, xy):\n\u001b[0;32m   1578\u001b[0m \u001b[39m    \u001b[39m\u001b[39m\"\"\"\u001b[39;00m\n\u001b[0;32m   1579\u001b[0m \u001b[39m    Returns the pixel value at a given position.\u001b[39;00m\n\u001b[0;32m   1580\u001b[0m \n\u001b[1;32m   (...)\u001b[0m\n\u001b[0;32m   1584\u001b[0m \u001b[39m       this method returns a tuple.\u001b[39;00m\n\u001b[0;32m   1585\u001b[0m \u001b[39m    \"\"\"\u001b[39;00m\n\u001b[0;32m   1587\u001b[0m     \u001b[39mself\u001b[39m\u001b[39m.\u001b[39mload()\n",
      "\u001b[1;31mKeyboardInterrupt\u001b[0m: "
     ]
    }
   ],
   "source": [
    "import pyautogui\n",
    "import time\n",
    "\n",
    "def get_region_pixels(region):\n",
    "    screenshot = pyautogui.screenshot(region=(region[0], region[1], region[2] - region[0], region[3] - region[1]))\n",
    "    return screenshot\n",
    "\n",
    "def find_color_in_pixels(target_color, pixels, region):\n",
    "    for x in range(region[0], region[2]):\n",
    "        for y in range(region[1], region[3]):\n",
    "            pixel_color = pixels.getpixel((x - region[0], y - region[1]))\n",
    "            if pixel_color == target_color:\n",
    "                return x, y\n",
    "    return None\n",
    "\n",
    "def calculate_color_proximity(color1, color2):\n",
    "    proximity = sum(abs(c1 - c2) for c1, c2 in zip(color1, color2))\n",
    "    return proximity / 3\n",
    "\n",
    "target_color = (219, 219, 209)\n",
    "target_color2 = (244, 67, 54)\n",
    "region_to_search = (292, 461, 720, 648)\n",
    "\n",
    "pyautogui.PAUSE = 1\n",
    "proximity = 98.554004\n",
    "offset_pixels = 17.5\n",
    "\n",
    "while True:\n",
    "    pixels = get_region_pixels(region_to_search)\n",
    "\n",
    "    pixel_coordinates = find_color_in_pixels(target_color, pixels, region_to_search)\n",
    "    pixel_coordinates2 = find_color_in_pixels(target_color2, pixels, region_to_search)\n",
    "\n",
    "    if pixel_coordinates and pixel_coordinates2:\n",
    "        print(f\"A cor foi encontrada nas coordenadas: {pixel_coordinates}\")\n",
    "        print(f\"A cor 2 foi encontrada nas coordenadas: {pixel_coordinates2}\")\n",
    "\n",
    "        proximity_value = calculate_color_proximity(pixel_coordinates, pixel_coordinates2)\n",
    "        print(f\"Grau de proximidade entre as coordenadas: {proximity_value}\")\n",
    "\n",
    "        if proximity_value <= proximity:\n",
    "            print(\"Coordenadas próximas! Clicando...\")\n",
    "            # Ajuste as coordenadas para clicar 2 pixels antes da posição de target_color1\n",
    "            click_x = pixel_coordinates[0] - offset_pixels\n",
    "            click_y = pixel_coordinates[1] - offset_pixels\n",
    "            pyautogui.click(click_x, click_y)\n",
    "        else:\n",
    "            print(\"Coordenadas não estão próximas o suficiente.\")\n",
    "    else:\n",
    "        print(\"A cor não foi encontrada na região especificada.\")\n"
   ]
  }
 ],
 "metadata": {
  "kernelspec": {
   "display_name": "Python 3",
   "language": "python",
   "name": "python3"
  },
  "language_info": {
   "codemirror_mode": {
    "name": "ipython",
    "version": 3
   },
   "file_extension": ".py",
   "mimetype": "text/x-python",
   "name": "python",
   "nbconvert_exporter": "python",
   "pygments_lexer": "ipython3",
   "version": "3.12.0"
  }
 },
 "nbformat": 4,
 "nbformat_minor": 2
}
