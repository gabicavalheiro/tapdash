{
 "cells": [
  {
   "cell_type": "code",
   "execution_count": 5,
   "metadata": {},
   "outputs": [],
   "source": [
    "# RGB : 222, 222, 212  (cor de fora)\n",
    "# RGB :  219, 219, 209  (cor da seta)\n",
    "# 232, 190, 87 (cor do avatar)\n",
    "# posição de início:  (685, -547), RGB: (14, 14, 14)\n"
   ]
  },
  {
   "cell_type": "code",
   "execution_count": 6,
   "metadata": {},
   "outputs": [
    {
     "name": "stdout",
     "output_type": "stream",
     "text": [
      "Requirement already satisfied: opencv-python in c:\\python312\\lib\\site-packages (4.8.1.78)\n",
      "Requirement already satisfied: numpy>=1.21.2 in c:\\python312\\lib\\site-packages (from opencv-python) (1.26.2)\n",
      "Requirement already satisfied: pywin32 in c:\\users\\gabi\\appdata\\roaming\\python\\python312\\site-packages (306)\n",
      "Requirement already satisfied: keyboard in c:\\python312\\lib\\site-packages (0.13.5)\n",
      "Requirement already satisfied: pyautogui in c:\\python312\\lib\\site-packages (0.9.53)\n",
      "Requirement already satisfied: pymsgbox in c:\\python312\\lib\\site-packages (from pyautogui) (1.0.9)\n",
      "Requirement already satisfied: PyTweening>=1.0.1 in c:\\python312\\lib\\site-packages (from pyautogui) (1.0.7)\n",
      "Requirement already satisfied: pyscreeze>=0.1.21 in c:\\python312\\lib\\site-packages (from pyautogui) (0.1.27)\n",
      "Requirement already satisfied: pygetwindow>=0.0.5 in c:\\python312\\lib\\site-packages (from pyautogui) (0.0.9)\n",
      "Requirement already satisfied: mouseinfo in c:\\python312\\lib\\site-packages (from pyautogui) (0.1.3)\n",
      "Requirement already satisfied: pyrect in c:\\python312\\lib\\site-packages (from pygetwindow>=0.0.5->pyautogui) (0.2.0)\n",
      "Requirement already satisfied: pyperclip in c:\\python312\\lib\\site-packages (from mouseinfo->pyautogui) (1.8.2)\n"
     ]
    }
   ],
   "source": [
    "!pip install opencv-python\n",
    "!pip install pywin32\n",
    "!pip install keyboard\n",
    "!pip install pyautogui"
   ]
  },
  {
   "cell_type": "code",
   "execution_count": 3,
   "metadata": {},
   "outputs": [
    {
     "ename": "KeyboardInterrupt",
     "evalue": "",
     "output_type": "error",
     "traceback": [
      "\u001b[1;31m---------------------------------------------------------------------------\u001b[0m",
      "\u001b[1;31mKeyboardInterrupt\u001b[0m                         Traceback (most recent call last)",
      "\u001b[1;32mc:\\Users\\Gabi\\Desktop\\4 semestre\\ia\\tarefa- bot\\tapdash\\taptapdash.ipynb Cell 3\u001b[0m line \u001b[0;36m4\n\u001b[0;32m     <a href='vscode-notebook-cell:/c%3A/Users/Gabi/Desktop/4%20semestre/ia/tarefa-%20bot/tapdash/taptapdash.ipynb#W2sZmlsZQ%3D%3D?line=37'>38</a>\u001b[0m \u001b[39m# Loop principal\u001b[39;00m\n\u001b[0;32m     <a href='vscode-notebook-cell:/c%3A/Users/Gabi/Desktop/4%20semestre/ia/tarefa-%20bot/tapdash/taptapdash.ipynb#W2sZmlsZQ%3D%3D?line=38'>39</a>\u001b[0m \u001b[39mwhile\u001b[39;00m \u001b[39mnot\u001b[39;00m keyboard\u001b[39m.\u001b[39mis_pressed(\u001b[39m'\u001b[39m\u001b[39mq\u001b[39m\u001b[39m'\u001b[39m):\n\u001b[1;32m---> <a href='vscode-notebook-cell:/c%3A/Users/Gabi/Desktop/4%20semestre/ia/tarefa-%20bot/tapdash/taptapdash.ipynb#W2sZmlsZQ%3D%3D?line=39'>40</a>\u001b[0m     find_and_click_arrow(arrow_color)\n",
      "\u001b[1;32mc:\\Users\\Gabi\\Desktop\\4 semestre\\ia\\tarefa- bot\\tapdash\\taptapdash.ipynb Cell 3\u001b[0m line \u001b[0;36m2\n\u001b[0;32m     <a href='vscode-notebook-cell:/c%3A/Users/Gabi/Desktop/4%20semestre/ia/tarefa-%20bot/tapdash/taptapdash.ipynb#W2sZmlsZQ%3D%3D?line=22'>23</a>\u001b[0m \u001b[39mfor\u001b[39;00m x \u001b[39min\u001b[39;00m \u001b[39mrange\u001b[39m(screen_width):\n\u001b[0;32m     <a href='vscode-notebook-cell:/c%3A/Users/Gabi/Desktop/4%20semestre/ia/tarefa-%20bot/tapdash/taptapdash.ipynb#W2sZmlsZQ%3D%3D?line=23'>24</a>\u001b[0m     \u001b[39mfor\u001b[39;00m y \u001b[39min\u001b[39;00m \u001b[39mrange\u001b[39m(screen_height):\n\u001b[1;32m---> <a href='vscode-notebook-cell:/c%3A/Users/Gabi/Desktop/4%20semestre/ia/tarefa-%20bot/tapdash/taptapdash.ipynb#W2sZmlsZQ%3D%3D?line=24'>25</a>\u001b[0m         pixel_color \u001b[39m=\u001b[39m pyautogui\u001b[39m.\u001b[39;49mpixel(x, y)\n\u001b[0;32m     <a href='vscode-notebook-cell:/c%3A/Users/Gabi/Desktop/4%20semestre/ia/tarefa-%20bot/tapdash/taptapdash.ipynb#W2sZmlsZQ%3D%3D?line=25'>26</a>\u001b[0m         \u001b[39mif\u001b[39;00m pixel_color \u001b[39m==\u001b[39m arrow_color:\n\u001b[0;32m     <a href='vscode-notebook-cell:/c%3A/Users/Gabi/Desktop/4%20semestre/ia/tarefa-%20bot/tapdash/taptapdash.ipynb#W2sZmlsZQ%3D%3D?line=26'>27</a>\u001b[0m             click(x, y)\n",
      "File \u001b[1;32mc:\\Python312\\Lib\\site-packages\\pyscreeze\\__init__.py:607\u001b[0m, in \u001b[0;36mpixel\u001b[1;34m(x, y)\u001b[0m\n\u001b[0;32m    604\u001b[0m \u001b[39mif\u001b[39;00m sys\u001b[39m.\u001b[39mplatform \u001b[39m==\u001b[39m \u001b[39m'\u001b[39m\u001b[39mwin32\u001b[39m\u001b[39m'\u001b[39m:\n\u001b[0;32m    605\u001b[0m     \u001b[39m# On Windows, calling GetDC() and GetPixel() is twice as fast as using our screenshot() function.\u001b[39;00m\n\u001b[0;32m    606\u001b[0m     \u001b[39mwith\u001b[39;00m __win32_openDC(\u001b[39m0\u001b[39m) \u001b[39mas\u001b[39;00m hdc: \u001b[39m# handle will be released automatically\u001b[39;00m\n\u001b[1;32m--> 607\u001b[0m         color \u001b[39m=\u001b[39m windll\u001b[39m.\u001b[39;49mgdi32\u001b[39m.\u001b[39;49mGetPixel(hdc, x, y)\n\u001b[0;32m    608\u001b[0m         \u001b[39mif\u001b[39;00m color \u001b[39m<\u001b[39m \u001b[39m0\u001b[39m:\n\u001b[0;32m    609\u001b[0m             \u001b[39mraise\u001b[39;00m \u001b[39mWindowsError\u001b[39;00m(\u001b[39m\"\u001b[39m\u001b[39mwindll.gdi32.GetPixel failed : return \u001b[39m\u001b[39m{}\u001b[39;00m\u001b[39m\"\u001b[39m\u001b[39m.\u001b[39mformat(color))\n",
      "\u001b[1;31mKeyboardInterrupt\u001b[0m: "
     ]
    }
   ],
   "source": [
    "\n",
    "import pyautogui\n",
    "import time\n",
    "\n",
    "def find_color_in_region(target_color, region):\n",
    "    screenshot = pyautogui.screenshot(region=(region[0], region[1], region[2] - region[0], region[3] - region[1]))\n",
    "    width, height = screenshot.size\n",
    "\n",
    "    for x in range(width):\n",
    "        for y in range(height):\n",
    "            pixel_color = screenshot.getpixel((x, y))\n",
    "            if pixel_color == target_color:\n",
    "                return x + region[0], y + region[1]\n",
    "\n",
    "    return None\n",
    "\n",
    "def calculate_color_proximity(color1, color2):\n",
    "    proximity = sum(abs(c1 - c2) for c1, c2 in zip(color1, color2))\n",
    "    return proximity / 3 #divide entre as 3 cores do rgb  \n",
    "\n",
    "\n",
    "target_color = (222, 222, 212)\n",
    "target_color2 = (232, 190, 87)\n",
    "region_to_search = (479, 162, 591, 881)  # (left, top, right, bottom)\n",
    "\n",
    "pyautogui.PAUSE = 1\n",
    "proximity_threshold = 46.4\n",
    "\n",
    "while True:\n",
    "    pixel_coordinates = find_color_in_region(target_color, region_to_search)\n",
    "    pixel_coordinates2 = find_color_in_region(target_color2, region_to_search)\n",
    "\n",
    "    if pixel_coordinates and pixel_coordinates2:\n",
    "        print(f\"A cor foi encontrada nas coordenadas: {pixel_coordinates}\")\n",
    "        print(f\"A cor 2 foi encontrada nas coordenadas: {pixel_coordinates2}\")\n",
    "\n",
    "        proximity_value = calculate_color_proximity(pixel_coordinates, pixel_coordinates2)\n",
    "        print(f\"Grau de proximidade entre as coordenadas: {proximity_value}\")\n",
    "\n",
    "        if proximity_value <= proximity_threshold:\n",
    "            print(\"Coordenadas próximas! Clicando...\")\n",
    "            pyautogui.click(pixel_coordinates2[0], pixel_coordinates2[1])\n",
    "        else:\n",
    "            print(\"Coordenadas não estão próximas o suficiente.\")\n",
    "    else:\n",
    "        print(\"A cor não foi encontrada na região especificada.\")\n",
    "        \n"
   ]
  }
 ],
 "metadata": {
  "kernelspec": {
   "display_name": "Python 3",
   "language": "python",
   "name": "python3"
  },
  "language_info": {
   "codemirror_mode": {
    "name": "ipython",
    "version": 3
   },
   "file_extension": ".py",
   "mimetype": "text/x-python",
   "name": "python",
   "nbconvert_exporter": "python",
   "pygments_lexer": "ipython3",
   "version": "3.12.0"
  }
 },
 "nbformat": 4,
 "nbformat_minor": 2
}
